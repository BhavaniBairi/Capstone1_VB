{
 "cells": [
  {
   "cell_type": "code",
   "execution_count": 2,
   "metadata": {},
   "outputs": [],
   "source": [
    "import psycopg2\n",
    "mydb = psycopg2.connect(host=\"localhost\",\n",
    "                        user=\"postgres\",\n",
    "                        password=\"12345678\",\n",
    "                        database=\"Youtube_Data_Harvest\",\n",
    "                        port = \"5432\"\n",
    "                        )\n",
    "\n",
    "mycursor = mydb.cursor()"
   ]
  },
  {
   "cell_type": "code",
   "execution_count": 3,
   "metadata": {},
   "outputs": [],
   "source": [
    "#Creating table for Channel\n",
    "            \n",
    "def channel_table():\n",
    "\n",
    "    mydb = psycopg2.connect(host=\"localhost\",\n",
    "                            user=\"postgres\",\n",
    "                            password=\"12345678\",\n",
    "                            database=\"Youtube_Data_Harvest\",\n",
    "                            port = \"5432\"\n",
    "                            )\n",
    "\n",
    "    mycursor = mydb.cursor()\n",
    "\n",
    "    create_table_channel = '''CREATE TABLE IF NOT EXISTS Channels(Channel_Id varchar(50) primary key,\n",
    "                                                                Channel_Name varchar(100),\n",
    "                                                                Channel_Description text,\n",
    "                                                                Channel_Views bigint,\n",
    "                                                                Subscription_Count bigint,\n",
    "                                                                Playlist_Id varchar(50),\n",
    "                                                                Video_Count int\n",
    "                                                                )'''\n",
    "    mycursor.execute(create_table_channel)\n",
    "    mydb.commit()"
   ]
  },
  {
   "cell_type": "code",
   "execution_count": 4,
   "metadata": {},
   "outputs": [],
   "source": [
    "#Creating table for Videos\n",
    "            \n",
    "def videos_table():\n",
    "    mydb = psycopg2.connect(host=\"localhost\",\n",
    "                        user=\"postgres\",\n",
    "                        password=\"12345678\",\n",
    "                        database=\"Youtube_Data_Harvest\",\n",
    "                        port = \"5432\"\n",
    "                        )\n",
    "\n",
    "    mycursor = mydb.cursor()\n",
    "\n",
    "\n",
    "    create_table_video = '''CREATE TABLE IF NOT EXISTS videosinfo(Video_Id varchar(30) primary key,\n",
    "                                                            Video_Name varchar(200),\n",
    "                                                            Video_Description text,\n",
    "                                                            Channel_Name varchar(100),\n",
    "                                                            PublishedAt timestamp,\n",
    "                                                            View_Count bigint,\n",
    "                                                            Like_Count bigint,\n",
    "                                                            Dislike_Count bigint,\n",
    "                                                            Favorite_Count int,\n",
    "                                                            Comment_Count int,\n",
    "                                                            Duration interval,\n",
    "                                                            Thumbnail varchar(255),\n",
    "                                                            Caption_Status varchar(50),\n",
    "                                                            Tags text)'''\n",
    "    \n",
    "    mycursor.execute(create_table_video)\n",
    "    mydb.commit()"
   ]
  },
  {
   "cell_type": "code",
   "execution_count": 5,
   "metadata": {},
   "outputs": [],
   "source": [
    "#Creating tables for Playlists\n",
    "            \n",
    "def playlists_table():\n",
    "\n",
    "    mydb = psycopg2.connect(host=\"localhost\",\n",
    "                        user=\"postgres\",\n",
    "                        password=\"12345678\",\n",
    "                        database=\"Youtube_Data_Harvest\",\n",
    "                        port = \"5432\"\n",
    "                        )\n",
    "    mycursor = mydb.cursor()\n",
    "\n",
    "    create_table_playlist = '''CREATE TABLE IF NOT EXISTS playlists(Playlist_Id varchar(255) primary key,\n",
    "                                                                    Playlist_Name varchar(255),\n",
    "                                                                    Channel_Id varchar(255),\n",
    "                                                                    Channel_Name varchar(255),\n",
    "                                                                    Video_Count int)'''\n",
    "    mycursor.execute(create_table_playlist)\n",
    "    mydb.commit()"
   ]
  },
  {
   "cell_type": "code",
   "execution_count": 6,
   "metadata": {},
   "outputs": [],
   "source": [
    "#Creating tables for Comments\n",
    "\n",
    "def comments_table():\n",
    "    \n",
    "    mydb = psycopg2.connect(host=\"localhost\",\n",
    "                            user=\"postgres\",\n",
    "                            password=\"12345678\",\n",
    "                            database=\"Youtube_Data_Harvest\",\n",
    "                            port = \"5432\"\n",
    "                            )\n",
    "    \n",
    "    mycursor = mydb.cursor()\n",
    "\n",
    "    create_table_comment = '''CREATE TABLE IF NOT EXISTS comments(Comment_Id varchar(255) primary key,\n",
    "                                                                Video_Id varchar(255),\n",
    "                                                                Comment_Text text,\n",
    "                                                                Comment_Author varchar(255),\n",
    "                                                                Comment_Publisheddate timestamp)'''\n",
    "    \n",
    "    mycursor.execute(create_table_comment)\n",
    "    mydb.commit()"
   ]
  },
  {
   "cell_type": "code",
   "execution_count": 7,
   "metadata": {},
   "outputs": [],
   "source": [
    "#Function to Create table for Channels, Videos, Playlists and Comments\n",
    "        \n",
    "def tables():\n",
    "    channel_table()\n",
    "    videos_table()\n",
    "    playlists_table()\n",
    "    comments_table()"
   ]
  },
  {
   "cell_type": "code",
   "execution_count": 8,
   "metadata": {},
   "outputs": [],
   "source": [
    "tables()"
   ]
  }
 ],
 "metadata": {
  "kernelspec": {
   "display_name": "Python 3",
   "language": "python",
   "name": "python3"
  },
  "language_info": {
   "codemirror_mode": {
    "name": "ipython",
    "version": 3
   },
   "file_extension": ".py",
   "mimetype": "text/x-python",
   "name": "python",
   "nbconvert_exporter": "python",
   "pygments_lexer": "ipython3",
   "version": "3.12.2"
  }
 },
 "nbformat": 4,
 "nbformat_minor": 2
}
